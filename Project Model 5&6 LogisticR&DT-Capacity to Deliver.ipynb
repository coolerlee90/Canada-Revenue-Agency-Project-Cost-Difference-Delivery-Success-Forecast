{
 "cells": [
  {
   "cell_type": "code",
   "execution_count": 1,
   "id": "1e921675",
   "metadata": {},
   "outputs": [],
   "source": [
    "import pandas as pd\n",
    "import seaborn as sns\n",
    "import matplotlib.pyplot as plt"
   ]
  },
  {
   "cell_type": "code",
   "execution_count": 2,
   "id": "bcfc2bcd",
   "metadata": {},
   "outputs": [],
   "source": [
    "df = pd.read_excel(\"D:\\BISI\\level 2\\CST2212\\OPS-PM Baseline Cost (Synthetic).xlsx\")"
   ]
  },
  {
   "cell_type": "code",
   "execution_count": 3,
   "id": "82f98df8",
   "metadata": {},
   "outputs": [
    {
     "name": "stdout",
     "output_type": "stream",
     "text": [
      "<class 'pandas.core.frame.DataFrame'>\n",
      "RangeIndex: 64 entries, 0 to 63\n",
      "Data columns (total 12 columns):\n",
      " #   Column                Non-Null Count  Dtype  \n",
      "---  ------                --------------  -----  \n",
      " 0   Order Number          64 non-null     int64  \n",
      " 1   Change Request Title  64 non-null     object \n",
      " 2   Work Classification   64 non-null     object \n",
      " 3   Priority              64 non-null     object \n",
      " 4   Application Name      64 non-null     object \n",
      " 5   IT Directorate        64 non-null     object \n",
      " 6   IT Division           64 non-null     object \n",
      " 7   IT Section            64 non-null     object \n",
      " 8   Manager ID            64 non-null     int64  \n",
      " 9   Effort Cost           64 non-null     float64\n",
      " 10  Capacity to Deliver   64 non-null     object \n",
      " 11  Actuals               64 non-null     float64\n",
      "dtypes: float64(2), int64(2), object(8)\n",
      "memory usage: 6.1+ KB\n"
     ]
    }
   ],
   "source": [
    "df.info()"
   ]
  },
  {
   "cell_type": "code",
   "execution_count": 4,
   "id": "7ec8d6ee",
   "metadata": {},
   "outputs": [
    {
     "data": {
      "text/plain": [
       "Order Number            0\n",
       "Change Request Title    0\n",
       "Work Classification     0\n",
       "Priority                0\n",
       "Application Name        0\n",
       "IT Directorate          0\n",
       "IT Division             0\n",
       "IT Section              0\n",
       "Manager ID              0\n",
       "Effort Cost             0\n",
       "Capacity to Deliver     0\n",
       "Actuals                 0\n",
       "dtype: int64"
      ]
     },
     "execution_count": 4,
     "metadata": {},
     "output_type": "execute_result"
    }
   ],
   "source": [
    "df.isnull().sum()"
   ]
  },
  {
   "cell_type": "code",
   "execution_count": 5,
   "id": "4775f4a9",
   "metadata": {},
   "outputs": [
    {
     "data": {
      "text/plain": [
       "0     False\n",
       "1     False\n",
       "2     False\n",
       "3     False\n",
       "4     False\n",
       "      ...  \n",
       "59    False\n",
       "60    False\n",
       "61     True\n",
       "62    False\n",
       "63    False\n",
       "Length: 64, dtype: bool"
      ]
     },
     "execution_count": 5,
     "metadata": {},
     "output_type": "execute_result"
    }
   ],
   "source": [
    "df.duplicated()"
   ]
  },
  {
   "cell_type": "code",
   "execution_count": 6,
   "id": "48f218fc",
   "metadata": {},
   "outputs": [],
   "source": [
    "df.drop_duplicates(inplace=True)"
   ]
  },
  {
   "cell_type": "code",
   "execution_count": 7,
   "id": "b73b2f45",
   "metadata": {},
   "outputs": [],
   "source": [
    "df['Order Number '] = df['Order Number '].astype(str)\n",
    "df['Manager ID'] = df['Manager ID'].astype(str)"
   ]
  },
  {
   "cell_type": "code",
   "execution_count": 8,
   "id": "6c2cd2c0",
   "metadata": {},
   "outputs": [
    {
     "data": {
      "text/html": [
       "<div>\n",
       "<style scoped>\n",
       "    .dataframe tbody tr th:only-of-type {\n",
       "        vertical-align: middle;\n",
       "    }\n",
       "\n",
       "    .dataframe tbody tr th {\n",
       "        vertical-align: top;\n",
       "    }\n",
       "\n",
       "    .dataframe thead th {\n",
       "        text-align: right;\n",
       "    }\n",
       "</style>\n",
       "<table border=\"1\" class=\"dataframe\">\n",
       "  <thead>\n",
       "    <tr style=\"text-align: right;\">\n",
       "      <th>Capacity to Deliver</th>\n",
       "      <th>No</th>\n",
       "      <th>Yes</th>\n",
       "    </tr>\n",
       "    <tr>\n",
       "      <th>Priority</th>\n",
       "      <th></th>\n",
       "      <th></th>\n",
       "    </tr>\n",
       "  </thead>\n",
       "  <tbody>\n",
       "    <tr>\n",
       "      <th>Critical</th>\n",
       "      <td>0</td>\n",
       "      <td>2</td>\n",
       "    </tr>\n",
       "    <tr>\n",
       "      <th>High</th>\n",
       "      <td>0</td>\n",
       "      <td>5</td>\n",
       "    </tr>\n",
       "    <tr>\n",
       "      <th>Low</th>\n",
       "      <td>6</td>\n",
       "      <td>25</td>\n",
       "    </tr>\n",
       "    <tr>\n",
       "      <th>Medium</th>\n",
       "      <td>1</td>\n",
       "      <td>24</td>\n",
       "    </tr>\n",
       "  </tbody>\n",
       "</table>\n",
       "</div>"
      ],
      "text/plain": [
       "Capacity to Deliver  No  Yes\n",
       "Priority                    \n",
       "Critical              0    2\n",
       "High                  0    5\n",
       "Low                   6   25\n",
       "Medium                1   24"
      ]
     },
     "execution_count": 8,
     "metadata": {},
     "output_type": "execute_result"
    }
   ],
   "source": [
    "pd.crosstab(df['Priority'], df['Capacity to Deliver'])"
   ]
  },
  {
   "cell_type": "code",
   "execution_count": 9,
   "id": "e0f1a4c8",
   "metadata": {},
   "outputs": [
    {
     "data": {
      "text/plain": [
       "Order Number            13\n",
       "Change Request Title    13\n",
       "Work Classification      2\n",
       "Priority                 4\n",
       "Application Name        26\n",
       "IT Directorate           6\n",
       "IT Division             14\n",
       "IT Section              31\n",
       "Manager ID              27\n",
       "Capacity to Deliver      2\n",
       "dtype: int64"
      ]
     },
     "execution_count": 9,
     "metadata": {},
     "output_type": "execute_result"
    }
   ],
   "source": [
    "df.select_dtypes(include=['object']).nunique()"
   ]
  },
  {
   "cell_type": "code",
   "execution_count": 10,
   "id": "438f7a70",
   "metadata": {},
   "outputs": [
    {
     "data": {
      "text/html": [
       "<div>\n",
       "<style scoped>\n",
       "    .dataframe tbody tr th:only-of-type {\n",
       "        vertical-align: middle;\n",
       "    }\n",
       "\n",
       "    .dataframe tbody tr th {\n",
       "        vertical-align: top;\n",
       "    }\n",
       "\n",
       "    .dataframe thead th {\n",
       "        text-align: right;\n",
       "    }\n",
       "</style>\n",
       "<table border=\"1\" class=\"dataframe\">\n",
       "  <thead>\n",
       "    <tr style=\"text-align: right;\">\n",
       "      <th></th>\n",
       "      <th>Effort Cost</th>\n",
       "      <th>Actuals</th>\n",
       "    </tr>\n",
       "  </thead>\n",
       "  <tbody>\n",
       "    <tr>\n",
       "      <th>count</th>\n",
       "      <td>63.000000</td>\n",
       "      <td>63.000000</td>\n",
       "    </tr>\n",
       "    <tr>\n",
       "      <th>mean</th>\n",
       "      <td>51831.532118</td>\n",
       "      <td>75166.872222</td>\n",
       "    </tr>\n",
       "    <tr>\n",
       "      <th>std</th>\n",
       "      <td>103950.113701</td>\n",
       "      <td>129514.417019</td>\n",
       "    </tr>\n",
       "    <tr>\n",
       "      <th>min</th>\n",
       "      <td>0.000000</td>\n",
       "      <td>0.000000</td>\n",
       "    </tr>\n",
       "    <tr>\n",
       "      <th>25%</th>\n",
       "      <td>29884.500000</td>\n",
       "      <td>13018.633333</td>\n",
       "    </tr>\n",
       "    <tr>\n",
       "      <th>50%</th>\n",
       "      <td>34576.000000</td>\n",
       "      <td>35320.680000</td>\n",
       "    </tr>\n",
       "    <tr>\n",
       "      <th>75%</th>\n",
       "      <td>39422.890137</td>\n",
       "      <td>70596.745346</td>\n",
       "    </tr>\n",
       "    <tr>\n",
       "      <th>max</th>\n",
       "      <td>815982.000000</td>\n",
       "      <td>634237.546746</td>\n",
       "    </tr>\n",
       "  </tbody>\n",
       "</table>\n",
       "</div>"
      ],
      "text/plain": [
       "         Effort Cost        Actuals\n",
       "count      63.000000      63.000000\n",
       "mean    51831.532118   75166.872222\n",
       "std    103950.113701  129514.417019\n",
       "min         0.000000       0.000000\n",
       "25%     29884.500000   13018.633333\n",
       "50%     34576.000000   35320.680000\n",
       "75%     39422.890137   70596.745346\n",
       "max    815982.000000  634237.546746"
      ]
     },
     "execution_count": 10,
     "metadata": {},
     "output_type": "execute_result"
    }
   ],
   "source": [
    "df.describe()"
   ]
  },
  {
   "cell_type": "code",
   "execution_count": 11,
   "id": "b86e473f",
   "metadata": {},
   "outputs": [
    {
     "name": "stderr",
     "output_type": "stream",
     "text": [
      "C:\\Users\\zhuan\\AppData\\Local\\Temp\\ipykernel_41832\\1134722465.py:1: FutureWarning: The default value of numeric_only in DataFrame.corr is deprecated. In a future version, it will default to False. Select only valid columns or specify the value of numeric_only to silence this warning.\n",
      "  df.corr()\n"
     ]
    },
    {
     "data": {
      "text/html": [
       "<div>\n",
       "<style scoped>\n",
       "    .dataframe tbody tr th:only-of-type {\n",
       "        vertical-align: middle;\n",
       "    }\n",
       "\n",
       "    .dataframe tbody tr th {\n",
       "        vertical-align: top;\n",
       "    }\n",
       "\n",
       "    .dataframe thead th {\n",
       "        text-align: right;\n",
       "    }\n",
       "</style>\n",
       "<table border=\"1\" class=\"dataframe\">\n",
       "  <thead>\n",
       "    <tr style=\"text-align: right;\">\n",
       "      <th></th>\n",
       "      <th>Effort Cost</th>\n",
       "      <th>Actuals</th>\n",
       "    </tr>\n",
       "  </thead>\n",
       "  <tbody>\n",
       "    <tr>\n",
       "      <th>Effort Cost</th>\n",
       "      <td>1.000000</td>\n",
       "      <td>0.646705</td>\n",
       "    </tr>\n",
       "    <tr>\n",
       "      <th>Actuals</th>\n",
       "      <td>0.646705</td>\n",
       "      <td>1.000000</td>\n",
       "    </tr>\n",
       "  </tbody>\n",
       "</table>\n",
       "</div>"
      ],
      "text/plain": [
       "             Effort Cost   Actuals\n",
       "Effort Cost     1.000000  0.646705\n",
       "Actuals         0.646705  1.000000"
      ]
     },
     "execution_count": 11,
     "metadata": {},
     "output_type": "execute_result"
    }
   ],
   "source": [
    "df.corr()"
   ]
  },
  {
   "cell_type": "code",
   "execution_count": 13,
   "id": "5a724970",
   "metadata": {},
   "outputs": [
    {
     "data": {
      "text/plain": [
       "0     1\n",
       "1     1\n",
       "2     1\n",
       "3     1\n",
       "4     1\n",
       "     ..\n",
       "58    1\n",
       "59    1\n",
       "60    1\n",
       "62    1\n",
       "63    1\n",
       "Name: Capacity to Deliver, Length: 63, dtype: int64"
      ]
     },
     "execution_count": 13,
     "metadata": {},
     "output_type": "execute_result"
    }
   ],
   "source": [
    "df['Capacity to Deliver'].replace({'Yes': 1, 'No': 0}, inplace=True)\n",
    "df['Capacity to Deliver']"
   ]
  },
  {
   "cell_type": "code",
   "execution_count": 14,
   "id": "6bf5ccea",
   "metadata": {},
   "outputs": [
    {
     "data": {
      "text/html": [
       "<div>\n",
       "<style scoped>\n",
       "    .dataframe tbody tr th:only-of-type {\n",
       "        vertical-align: middle;\n",
       "    }\n",
       "\n",
       "    .dataframe tbody tr th {\n",
       "        vertical-align: top;\n",
       "    }\n",
       "\n",
       "    .dataframe thead th {\n",
       "        text-align: right;\n",
       "    }\n",
       "</style>\n",
       "<table border=\"1\" class=\"dataframe\">\n",
       "  <thead>\n",
       "    <tr style=\"text-align: right;\">\n",
       "      <th></th>\n",
       "      <th>Order Number</th>\n",
       "      <th>Change Request Title</th>\n",
       "      <th>Work Classification</th>\n",
       "      <th>Priority</th>\n",
       "      <th>Application Name</th>\n",
       "      <th>IT Directorate</th>\n",
       "      <th>IT Division</th>\n",
       "      <th>IT Section</th>\n",
       "      <th>Manager ID</th>\n",
       "      <th>Effort Cost</th>\n",
       "      <th>Capacity to Deliver</th>\n",
       "      <th>Actuals</th>\n",
       "    </tr>\n",
       "  </thead>\n",
       "  <tbody>\n",
       "    <tr>\n",
       "      <th>0</th>\n",
       "      <td>161199</td>\n",
       "      <td>Sub-Project-4</td>\n",
       "      <td>Development</td>\n",
       "      <td>Low</td>\n",
       "      <td>Application A</td>\n",
       "      <td>DIR-1</td>\n",
       "      <td>Div-1</td>\n",
       "      <td>Sec-1</td>\n",
       "      <td>485317370</td>\n",
       "      <td>29414.500000</td>\n",
       "      <td>1</td>\n",
       "      <td>92798.636954</td>\n",
       "    </tr>\n",
       "    <tr>\n",
       "      <th>1</th>\n",
       "      <td>161454</td>\n",
       "      <td>Sub-Project-1</td>\n",
       "      <td>Development</td>\n",
       "      <td>Low</td>\n",
       "      <td>Application A</td>\n",
       "      <td>DIR-1</td>\n",
       "      <td>Div-1</td>\n",
       "      <td>Sec-1</td>\n",
       "      <td>485317370</td>\n",
       "      <td>149149.421875</td>\n",
       "      <td>1</td>\n",
       "      <td>470545.583046</td>\n",
       "    </tr>\n",
       "    <tr>\n",
       "      <th>2</th>\n",
       "      <td>161199</td>\n",
       "      <td>Sub-Project-4</td>\n",
       "      <td>Development</td>\n",
       "      <td>Low</td>\n",
       "      <td>Application A</td>\n",
       "      <td>DIR-1</td>\n",
       "      <td>Div-1</td>\n",
       "      <td>Sec-6</td>\n",
       "      <td>485317372</td>\n",
       "      <td>26029.000000</td>\n",
       "      <td>1</td>\n",
       "      <td>12603.025171</td>\n",
       "    </tr>\n",
       "    <tr>\n",
       "      <th>3</th>\n",
       "      <td>161277</td>\n",
       "      <td>Sub-Project-7</td>\n",
       "      <td>Enhancement</td>\n",
       "      <td>Low</td>\n",
       "      <td>Application A</td>\n",
       "      <td>DIR-1</td>\n",
       "      <td>Div-1</td>\n",
       "      <td>Sec-6</td>\n",
       "      <td>485317372</td>\n",
       "      <td>35841.599609</td>\n",
       "      <td>1</td>\n",
       "      <td>17354.204235</td>\n",
       "    </tr>\n",
       "    <tr>\n",
       "      <th>4</th>\n",
       "      <td>161454</td>\n",
       "      <td>Sub-Project-1</td>\n",
       "      <td>Development</td>\n",
       "      <td>Low</td>\n",
       "      <td>Application A</td>\n",
       "      <td>DIR-1</td>\n",
       "      <td>Div-1</td>\n",
       "      <td>Sec-6</td>\n",
       "      <td>485317372</td>\n",
       "      <td>30544.000000</td>\n",
       "      <td>1</td>\n",
       "      <td>14789.150594</td>\n",
       "    </tr>\n",
       "  </tbody>\n",
       "</table>\n",
       "</div>"
      ],
      "text/plain": [
       "  Order Number  Change Request Title Work Classification Priority  \\\n",
       "0        161199        Sub-Project-4         Development      Low   \n",
       "1        161454        Sub-Project-1         Development      Low   \n",
       "2        161199        Sub-Project-4         Development      Low   \n",
       "3        161277        Sub-Project-7         Enhancement      Low   \n",
       "4        161454        Sub-Project-1         Development      Low   \n",
       "\n",
       "  Application Name IT Directorate IT Division IT Section Manager ID  \\\n",
       "0    Application A          DIR-1       Div-1      Sec-1  485317370   \n",
       "1    Application A          DIR-1       Div-1      Sec-1  485317370   \n",
       "2    Application A          DIR-1       Div-1      Sec-6  485317372   \n",
       "3    Application A          DIR-1       Div-1      Sec-6  485317372   \n",
       "4    Application A          DIR-1       Div-1      Sec-6  485317372   \n",
       "\n",
       "     Effort Cost  Capacity to Deliver        Actuals  \n",
       "0   29414.500000                    1   92798.636954  \n",
       "1  149149.421875                    1  470545.583046  \n",
       "2   26029.000000                    1   12603.025171  \n",
       "3   35841.599609                    1   17354.204235  \n",
       "4   30544.000000                    1   14789.150594  "
      ]
     },
     "execution_count": 14,
     "metadata": {},
     "output_type": "execute_result"
    }
   ],
   "source": [
    "df.head()"
   ]
  },
  {
   "cell_type": "code",
   "execution_count": 15,
   "id": "babe0843",
   "metadata": {},
   "outputs": [],
   "source": [
    "from sklearn.model_selection import train_test_split\n",
    "from sklearn.linear_model import LogisticRegression\n",
    "from sklearn.metrics import accuracy_score\n",
    "from sklearn.metrics import classification_report, confusion_matrix\n",
    "from sklearn.model_selection import cross_val_score\n",
    "from sklearn.preprocessing import LabelEncoder, OneHotEncoder\n",
    "from sklearn.compose import ColumnTransformer"
   ]
  },
  {
   "cell_type": "code",
   "execution_count": 16,
   "id": "96a56dcf",
   "metadata": {},
   "outputs": [],
   "source": [
    "df = df.drop('Change Request Title', axis=1)\n",
    "df = df.drop('Actuals', axis=1)\n",
    "X = df.drop('Capacity to Deliver', axis=1)\n",
    "y = df['Capacity to Deliver']"
   ]
  },
  {
   "cell_type": "code",
   "execution_count": 17,
   "id": "8031652d",
   "metadata": {},
   "outputs": [],
   "source": [
    "# Label Encoding for 'Priority'\n",
    "le = LabelEncoder()\n",
    "X['Priority'] = le.fit_transform(X['Priority'])"
   ]
  },
  {
   "cell_type": "code",
   "execution_count": 18,
   "id": "f0dfd5a1",
   "metadata": {},
   "outputs": [],
   "source": [
    "# Frequency Encoding for 'Application Name', 'IT Division', 'IT Section', 'Manager ID'\n",
    "for column in ['IT Division', 'IT Section', 'Application Name', 'Manager ID']:\n",
    "    frequency_encoding = X[column].value_counts(normalize=True)\n",
    "    X[column] = X[column].map(frequency_encoding)"
   ]
  },
  {
   "cell_type": "code",
   "execution_count": 19,
   "id": "9f2f9192",
   "metadata": {},
   "outputs": [],
   "source": [
    "# One-Hot Encoding for 'Order Number', 'Work Classification', 'IT Directorate'\n",
    "# We can use pandas get_dummies or OneHotEncoder. Here, we will use get_dummies.\n",
    "X = pd.get_dummies(X, columns=['Order Number ', 'Work Classification', 'IT Directorate'], drop_first=True)"
   ]
  },
  {
   "cell_type": "code",
   "execution_count": 20,
   "id": "884b7b96",
   "metadata": {},
   "outputs": [],
   "source": [
    "X_train, X_test, y_train, y_test = train_test_split(X, y, test_size=0.2, random_state=42)\n"
   ]
  },
  {
   "cell_type": "code",
   "execution_count": 21,
   "id": "40a4a011",
   "metadata": {},
   "outputs": [],
   "source": [
    "from sklearn.preprocessing import MinMaxScaler\n",
    "scaler = MinMaxScaler()"
   ]
  },
  {
   "cell_type": "code",
   "execution_count": 22,
   "id": "85676e6b",
   "metadata": {},
   "outputs": [],
   "source": [
    "X_train['Effort Cost'] = scaler.fit_transform(X_train[['Effort Cost']])\n",
    "X_test['Effort Cost'] = scaler.transform(X_test[['Effort Cost']])"
   ]
  },
  {
   "cell_type": "code",
   "execution_count": 23,
   "id": "2eb0fe4a",
   "metadata": {},
   "outputs": [
    {
     "data": {
      "text/plain": [
       "Order Number           0\n",
       "Work Classification    0\n",
       "Priority               0\n",
       "Application Name       0\n",
       "IT Directorate         0\n",
       "IT Division            0\n",
       "IT Section             0\n",
       "Manager ID             0\n",
       "Effort Cost            0\n",
       "Capacity to Deliver    0\n",
       "dtype: int64"
      ]
     },
     "execution_count": 23,
     "metadata": {},
     "output_type": "execute_result"
    }
   ],
   "source": [
    "df.isnull().sum()"
   ]
  },
  {
   "cell_type": "code",
   "execution_count": 24,
   "id": "db6c5a3f",
   "metadata": {},
   "outputs": [],
   "source": [
    "logreg = LogisticRegression(max_iter=1000)\n",
    "logreg.fit(X_train, y_train)\n",
    "y_pred_train = logreg.predict(X_train)\n",
    "y_pred = logreg.predict(X_test)"
   ]
  },
  {
   "cell_type": "code",
   "execution_count": 25,
   "id": "54c266f3",
   "metadata": {},
   "outputs": [
    {
     "name": "stderr",
     "output_type": "stream",
     "text": [
      "C:\\Users\\zhuan\\anaconda3\\Lib\\site-packages\\sklearn\\metrics\\_classification.py:1469: UndefinedMetricWarning: Precision and F-score are ill-defined and being set to 0.0 in labels with no predicted samples. Use `zero_division` parameter to control this behavior.\n",
      "  _warn_prf(average, modifier, msg_start, len(result))\n",
      "C:\\Users\\zhuan\\anaconda3\\Lib\\site-packages\\sklearn\\metrics\\_classification.py:1469: UndefinedMetricWarning: Precision and F-score are ill-defined and being set to 0.0 in labels with no predicted samples. Use `zero_division` parameter to control this behavior.\n",
      "  _warn_prf(average, modifier, msg_start, len(result))\n",
      "C:\\Users\\zhuan\\anaconda3\\Lib\\site-packages\\sklearn\\metrics\\_classification.py:1469: UndefinedMetricWarning: Precision and F-score are ill-defined and being set to 0.0 in labels with no predicted samples. Use `zero_division` parameter to control this behavior.\n",
      "  _warn_prf(average, modifier, msg_start, len(result))\n"
     ]
    }
   ],
   "source": [
    "class_report_train = classification_report(y_train,y_pred_train)\n",
    "conf_matrix_train = confusion_matrix(y_train,y_pred_train)\n",
    "\n",
    "class_report = classification_report(y_test,y_pred)\n",
    "conf_matrix = confusion_matrix(y_test,y_pred)"
   ]
  },
  {
   "cell_type": "code",
   "execution_count": 26,
   "id": "2abd3616",
   "metadata": {},
   "outputs": [
    {
     "name": "stdout",
     "output_type": "stream",
     "text": [
      "              precision    recall  f1-score   support\n",
      "\n",
      "           0       1.00      0.33      0.50         6\n",
      "           1       0.92      1.00      0.96        44\n",
      "\n",
      "    accuracy                           0.92        50\n",
      "   macro avg       0.96      0.67      0.73        50\n",
      "weighted avg       0.93      0.92      0.90        50\n",
      "\n",
      "[[ 2  4]\n",
      " [ 0 44]]\n",
      "              precision    recall  f1-score   support\n",
      "\n",
      "           0       0.00      0.00      0.00         1\n",
      "           1       0.92      1.00      0.96        12\n",
      "\n",
      "    accuracy                           0.92        13\n",
      "   macro avg       0.46      0.50      0.48        13\n",
      "weighted avg       0.85      0.92      0.89        13\n",
      "\n",
      "[[ 0  1]\n",
      " [ 0 12]]\n"
     ]
    }
   ],
   "source": [
    "print(class_report_train)\n",
    "print(conf_matrix_train)\n",
    "\n",
    "print(class_report)\n",
    "print(conf_matrix)"
   ]
  },
  {
   "cell_type": "code",
   "execution_count": 27,
   "id": "7b4fb0e4",
   "metadata": {},
   "outputs": [
    {
     "name": "stdout",
     "output_type": "stream",
     "text": [
      "cross_val_scores_accuracy [1.         1.         0.92307692 0.83333333 1.        ]\n",
      "cross_val_scores_accuracy_mean 0.9512820512820515\n",
      "cross_val_scores_precision [1.         1.         0.91666667 1.         1.        ]\n",
      "cross_val_scores_precision_mean 0.9833333333333332\n",
      "cross_val_scores_recall [1.         1.         1.         0.81818182 1.        ]\n",
      "cross_val_scores_recall_mean 0.9636363636363636\n",
      "cross_val_scores_f1 [1.         1.         0.95652174 0.9        1.        ]\n",
      "cross_val_scores_recall_mean 0.9713043478260868\n"
     ]
    }
   ],
   "source": [
    "cross_val_scores_accuracy = cross_val_score(logreg, X, y, cv=5, scoring='accuracy')\n",
    "cross_val_scores_precision = cross_val_score(logreg, X, y, cv=5, scoring='precision')\n",
    "cross_val_scores_recall = cross_val_score(logreg, X, y, cv=5, scoring='recall')\n",
    "cross_val_scores_f1 = cross_val_score(logreg, X, y, cv=5, scoring='f1')\n",
    "print('cross_val_scores_accuracy', cross_val_scores_accuracy)\n",
    "print('cross_val_scores_accuracy_mean', cross_val_scores_accuracy.mean())\n",
    "print('cross_val_scores_precision', cross_val_scores_precision)\n",
    "print('cross_val_scores_precision_mean', cross_val_scores_precision.mean())\n",
    "print('cross_val_scores_recall', cross_val_scores_recall)\n",
    "print('cross_val_scores_recall_mean', cross_val_scores_recall.mean())\n",
    "print('cross_val_scores_f1', cross_val_scores_f1)\n",
    "print('cross_val_scores_recall_mean', cross_val_scores_f1.mean())"
   ]
  },
  {
   "cell_type": "code",
   "execution_count": null,
   "id": "27332cd0",
   "metadata": {},
   "outputs": [],
   "source": []
  },
  {
   "cell_type": "code",
   "execution_count": 28,
   "id": "ac0a682f",
   "metadata": {},
   "outputs": [],
   "source": [
    "from sklearn.tree import DecisionTreeClassifier\n",
    "dtree = DecisionTreeClassifier()"
   ]
  },
  {
   "cell_type": "code",
   "execution_count": 29,
   "id": "604f3078",
   "metadata": {},
   "outputs": [
    {
     "data": {
      "text/html": [
       "<style>#sk-container-id-1 {color: black;}#sk-container-id-1 pre{padding: 0;}#sk-container-id-1 div.sk-toggleable {background-color: white;}#sk-container-id-1 label.sk-toggleable__label {cursor: pointer;display: block;width: 100%;margin-bottom: 0;padding: 0.3em;box-sizing: border-box;text-align: center;}#sk-container-id-1 label.sk-toggleable__label-arrow:before {content: \"▸\";float: left;margin-right: 0.25em;color: #696969;}#sk-container-id-1 label.sk-toggleable__label-arrow:hover:before {color: black;}#sk-container-id-1 div.sk-estimator:hover label.sk-toggleable__label-arrow:before {color: black;}#sk-container-id-1 div.sk-toggleable__content {max-height: 0;max-width: 0;overflow: hidden;text-align: left;background-color: #f0f8ff;}#sk-container-id-1 div.sk-toggleable__content pre {margin: 0.2em;color: black;border-radius: 0.25em;background-color: #f0f8ff;}#sk-container-id-1 input.sk-toggleable__control:checked~div.sk-toggleable__content {max-height: 200px;max-width: 100%;overflow: auto;}#sk-container-id-1 input.sk-toggleable__control:checked~label.sk-toggleable__label-arrow:before {content: \"▾\";}#sk-container-id-1 div.sk-estimator input.sk-toggleable__control:checked~label.sk-toggleable__label {background-color: #d4ebff;}#sk-container-id-1 div.sk-label input.sk-toggleable__control:checked~label.sk-toggleable__label {background-color: #d4ebff;}#sk-container-id-1 input.sk-hidden--visually {border: 0;clip: rect(1px 1px 1px 1px);clip: rect(1px, 1px, 1px, 1px);height: 1px;margin: -1px;overflow: hidden;padding: 0;position: absolute;width: 1px;}#sk-container-id-1 div.sk-estimator {font-family: monospace;background-color: #f0f8ff;border: 1px dotted black;border-radius: 0.25em;box-sizing: border-box;margin-bottom: 0.5em;}#sk-container-id-1 div.sk-estimator:hover {background-color: #d4ebff;}#sk-container-id-1 div.sk-parallel-item::after {content: \"\";width: 100%;border-bottom: 1px solid gray;flex-grow: 1;}#sk-container-id-1 div.sk-label:hover label.sk-toggleable__label {background-color: #d4ebff;}#sk-container-id-1 div.sk-serial::before {content: \"\";position: absolute;border-left: 1px solid gray;box-sizing: border-box;top: 0;bottom: 0;left: 50%;z-index: 0;}#sk-container-id-1 div.sk-serial {display: flex;flex-direction: column;align-items: center;background-color: white;padding-right: 0.2em;padding-left: 0.2em;position: relative;}#sk-container-id-1 div.sk-item {position: relative;z-index: 1;}#sk-container-id-1 div.sk-parallel {display: flex;align-items: stretch;justify-content: center;background-color: white;position: relative;}#sk-container-id-1 div.sk-item::before, #sk-container-id-1 div.sk-parallel-item::before {content: \"\";position: absolute;border-left: 1px solid gray;box-sizing: border-box;top: 0;bottom: 0;left: 50%;z-index: -1;}#sk-container-id-1 div.sk-parallel-item {display: flex;flex-direction: column;z-index: 1;position: relative;background-color: white;}#sk-container-id-1 div.sk-parallel-item:first-child::after {align-self: flex-end;width: 50%;}#sk-container-id-1 div.sk-parallel-item:last-child::after {align-self: flex-start;width: 50%;}#sk-container-id-1 div.sk-parallel-item:only-child::after {width: 0;}#sk-container-id-1 div.sk-dashed-wrapped {border: 1px dashed gray;margin: 0 0.4em 0.5em 0.4em;box-sizing: border-box;padding-bottom: 0.4em;background-color: white;}#sk-container-id-1 div.sk-label label {font-family: monospace;font-weight: bold;display: inline-block;line-height: 1.2em;}#sk-container-id-1 div.sk-label-container {text-align: center;}#sk-container-id-1 div.sk-container {/* jupyter's `normalize.less` sets `[hidden] { display: none; }` but bootstrap.min.css set `[hidden] { display: none !important; }` so we also need the `!important` here to be able to override the default hidden behavior on the sphinx rendered scikit-learn.org. See: https://github.com/scikit-learn/scikit-learn/issues/21755 */display: inline-block !important;position: relative;}#sk-container-id-1 div.sk-text-repr-fallback {display: none;}</style><div id=\"sk-container-id-1\" class=\"sk-top-container\"><div class=\"sk-text-repr-fallback\"><pre>DecisionTreeClassifier()</pre><b>In a Jupyter environment, please rerun this cell to show the HTML representation or trust the notebook. <br />On GitHub, the HTML representation is unable to render, please try loading this page with nbviewer.org.</b></div><div class=\"sk-container\" hidden><div class=\"sk-item\"><div class=\"sk-estimator sk-toggleable\"><input class=\"sk-toggleable__control sk-hidden--visually\" id=\"sk-estimator-id-1\" type=\"checkbox\" checked><label for=\"sk-estimator-id-1\" class=\"sk-toggleable__label sk-toggleable__label-arrow\">DecisionTreeClassifier</label><div class=\"sk-toggleable__content\"><pre>DecisionTreeClassifier()</pre></div></div></div></div></div>"
      ],
      "text/plain": [
       "DecisionTreeClassifier()"
      ]
     },
     "execution_count": 29,
     "metadata": {},
     "output_type": "execute_result"
    }
   ],
   "source": [
    "dtree.fit(X_train, y_train)"
   ]
  },
  {
   "cell_type": "code",
   "execution_count": 30,
   "id": "e9556651",
   "metadata": {},
   "outputs": [
    {
     "name": "stdout",
     "output_type": "stream",
     "text": [
      "              precision    recall  f1-score   support\n",
      "\n",
      "           0       1.00      1.00      1.00         6\n",
      "           1       1.00      1.00      1.00        44\n",
      "\n",
      "    accuracy                           1.00        50\n",
      "   macro avg       1.00      1.00      1.00        50\n",
      "weighted avg       1.00      1.00      1.00        50\n",
      "\n",
      "[[ 6  0]\n",
      " [ 0 44]]\n",
      "              precision    recall  f1-score   support\n",
      "\n",
      "           0       0.00      0.00      0.00         1\n",
      "           1       0.92      1.00      0.96        12\n",
      "\n",
      "    accuracy                           0.92        13\n",
      "   macro avg       0.46      0.50      0.48        13\n",
      "weighted avg       0.85      0.92      0.89        13\n",
      "\n",
      "[[ 0  1]\n",
      " [ 0 12]]\n"
     ]
    },
    {
     "name": "stderr",
     "output_type": "stream",
     "text": [
      "C:\\Users\\zhuan\\anaconda3\\Lib\\site-packages\\sklearn\\metrics\\_classification.py:1469: UndefinedMetricWarning: Precision and F-score are ill-defined and being set to 0.0 in labels with no predicted samples. Use `zero_division` parameter to control this behavior.\n",
      "  _warn_prf(average, modifier, msg_start, len(result))\n",
      "C:\\Users\\zhuan\\anaconda3\\Lib\\site-packages\\sklearn\\metrics\\_classification.py:1469: UndefinedMetricWarning: Precision and F-score are ill-defined and being set to 0.0 in labels with no predicted samples. Use `zero_division` parameter to control this behavior.\n",
      "  _warn_prf(average, modifier, msg_start, len(result))\n",
      "C:\\Users\\zhuan\\anaconda3\\Lib\\site-packages\\sklearn\\metrics\\_classification.py:1469: UndefinedMetricWarning: Precision and F-score are ill-defined and being set to 0.0 in labels with no predicted samples. Use `zero_division` parameter to control this behavior.\n",
      "  _warn_prf(average, modifier, msg_start, len(result))\n"
     ]
    }
   ],
   "source": [
    "y_pred_dtree_train = dtree.predict(X_train)\n",
    "y_pred_dtree = dtree.predict(X_test)\n",
    "\n",
    "print(classification_report(y_train,y_pred_dtree_train))\n",
    "print(confusion_matrix(y_train,y_pred_dtree_train))\n",
    "print(classification_report(y_test, y_pred_dtree))\n",
    "print(confusion_matrix(y_test, y_pred_dtree))"
   ]
  },
  {
   "cell_type": "code",
   "execution_count": 32,
   "id": "cfda1c14",
   "metadata": {},
   "outputs": [
    {
     "name": "stdout",
     "output_type": "stream",
     "text": [
      "cross_val_scores_accuracy [1.         0.92307692 0.92307692 0.75       0.58333333]\n",
      "cross_val_scores_accuracy_mean 0.8358974358974359\n",
      "cross_val_scores_precision [1.         0.91666667 0.91666667 1.         0.875     ]\n",
      "cross_val_scores_precision_mean 0.9416666666666667\n",
      "cross_val_scores_recall [1.         1.         1.         0.72727273 0.63636364]\n",
      "cross_val_scores_recall_mean 0.8727272727272728\n",
      "cross_val_scores_f1 [1.         0.95652174 0.95652174 0.9        0.8       ]\n",
      "cross_val_scores_recall_mean 0.9226086956521738\n"
     ]
    }
   ],
   "source": [
    "cross_val_scores_accuracy = cross_val_score(dtree, X, y, cv=5, scoring='accuracy')\n",
    "cross_val_scores_precision = cross_val_score(dtree, X, y, cv=5, scoring='precision')\n",
    "cross_val_scores_recall = cross_val_score(dtree, X, y, cv=5, scoring='recall')\n",
    "cross_val_scores_f1 = cross_val_score(dtree, X, y, cv=5, scoring='f1')\n",
    "print('cross_val_scores_accuracy', cross_val_scores_accuracy)\n",
    "print('cross_val_scores_accuracy_mean', cross_val_scores_accuracy.mean())\n",
    "print('cross_val_scores_precision', cross_val_scores_precision)\n",
    "print('cross_val_scores_precision_mean', cross_val_scores_precision.mean())\n",
    "print('cross_val_scores_recall', cross_val_scores_recall)\n",
    "print('cross_val_scores_recall_mean', cross_val_scores_recall.mean())\n",
    "print('cross_val_scores_f1', cross_val_scores_f1)\n",
    "print('cross_val_scores_recall_mean', cross_val_scores_f1.mean())"
   ]
  },
  {
   "cell_type": "code",
   "execution_count": null,
   "id": "93caa677",
   "metadata": {},
   "outputs": [],
   "source": []
  },
  {
   "cell_type": "code",
   "execution_count": 33,
   "id": "4375f150",
   "metadata": {},
   "outputs": [],
   "source": [
    "from sklearn.ensemble import RandomForestClassifier\n",
    "rf = RandomForestClassifier()"
   ]
  },
  {
   "cell_type": "code",
   "execution_count": 34,
   "id": "fd323851",
   "metadata": {},
   "outputs": [
    {
     "data": {
      "text/html": [
       "<style>#sk-container-id-2 {color: black;}#sk-container-id-2 pre{padding: 0;}#sk-container-id-2 div.sk-toggleable {background-color: white;}#sk-container-id-2 label.sk-toggleable__label {cursor: pointer;display: block;width: 100%;margin-bottom: 0;padding: 0.3em;box-sizing: border-box;text-align: center;}#sk-container-id-2 label.sk-toggleable__label-arrow:before {content: \"▸\";float: left;margin-right: 0.25em;color: #696969;}#sk-container-id-2 label.sk-toggleable__label-arrow:hover:before {color: black;}#sk-container-id-2 div.sk-estimator:hover label.sk-toggleable__label-arrow:before {color: black;}#sk-container-id-2 div.sk-toggleable__content {max-height: 0;max-width: 0;overflow: hidden;text-align: left;background-color: #f0f8ff;}#sk-container-id-2 div.sk-toggleable__content pre {margin: 0.2em;color: black;border-radius: 0.25em;background-color: #f0f8ff;}#sk-container-id-2 input.sk-toggleable__control:checked~div.sk-toggleable__content {max-height: 200px;max-width: 100%;overflow: auto;}#sk-container-id-2 input.sk-toggleable__control:checked~label.sk-toggleable__label-arrow:before {content: \"▾\";}#sk-container-id-2 div.sk-estimator input.sk-toggleable__control:checked~label.sk-toggleable__label {background-color: #d4ebff;}#sk-container-id-2 div.sk-label input.sk-toggleable__control:checked~label.sk-toggleable__label {background-color: #d4ebff;}#sk-container-id-2 input.sk-hidden--visually {border: 0;clip: rect(1px 1px 1px 1px);clip: rect(1px, 1px, 1px, 1px);height: 1px;margin: -1px;overflow: hidden;padding: 0;position: absolute;width: 1px;}#sk-container-id-2 div.sk-estimator {font-family: monospace;background-color: #f0f8ff;border: 1px dotted black;border-radius: 0.25em;box-sizing: border-box;margin-bottom: 0.5em;}#sk-container-id-2 div.sk-estimator:hover {background-color: #d4ebff;}#sk-container-id-2 div.sk-parallel-item::after {content: \"\";width: 100%;border-bottom: 1px solid gray;flex-grow: 1;}#sk-container-id-2 div.sk-label:hover label.sk-toggleable__label {background-color: #d4ebff;}#sk-container-id-2 div.sk-serial::before {content: \"\";position: absolute;border-left: 1px solid gray;box-sizing: border-box;top: 0;bottom: 0;left: 50%;z-index: 0;}#sk-container-id-2 div.sk-serial {display: flex;flex-direction: column;align-items: center;background-color: white;padding-right: 0.2em;padding-left: 0.2em;position: relative;}#sk-container-id-2 div.sk-item {position: relative;z-index: 1;}#sk-container-id-2 div.sk-parallel {display: flex;align-items: stretch;justify-content: center;background-color: white;position: relative;}#sk-container-id-2 div.sk-item::before, #sk-container-id-2 div.sk-parallel-item::before {content: \"\";position: absolute;border-left: 1px solid gray;box-sizing: border-box;top: 0;bottom: 0;left: 50%;z-index: -1;}#sk-container-id-2 div.sk-parallel-item {display: flex;flex-direction: column;z-index: 1;position: relative;background-color: white;}#sk-container-id-2 div.sk-parallel-item:first-child::after {align-self: flex-end;width: 50%;}#sk-container-id-2 div.sk-parallel-item:last-child::after {align-self: flex-start;width: 50%;}#sk-container-id-2 div.sk-parallel-item:only-child::after {width: 0;}#sk-container-id-2 div.sk-dashed-wrapped {border: 1px dashed gray;margin: 0 0.4em 0.5em 0.4em;box-sizing: border-box;padding-bottom: 0.4em;background-color: white;}#sk-container-id-2 div.sk-label label {font-family: monospace;font-weight: bold;display: inline-block;line-height: 1.2em;}#sk-container-id-2 div.sk-label-container {text-align: center;}#sk-container-id-2 div.sk-container {/* jupyter's `normalize.less` sets `[hidden] { display: none; }` but bootstrap.min.css set `[hidden] { display: none !important; }` so we also need the `!important` here to be able to override the default hidden behavior on the sphinx rendered scikit-learn.org. See: https://github.com/scikit-learn/scikit-learn/issues/21755 */display: inline-block !important;position: relative;}#sk-container-id-2 div.sk-text-repr-fallback {display: none;}</style><div id=\"sk-container-id-2\" class=\"sk-top-container\"><div class=\"sk-text-repr-fallback\"><pre>RandomForestClassifier()</pre><b>In a Jupyter environment, please rerun this cell to show the HTML representation or trust the notebook. <br />On GitHub, the HTML representation is unable to render, please try loading this page with nbviewer.org.</b></div><div class=\"sk-container\" hidden><div class=\"sk-item\"><div class=\"sk-estimator sk-toggleable\"><input class=\"sk-toggleable__control sk-hidden--visually\" id=\"sk-estimator-id-2\" type=\"checkbox\" checked><label for=\"sk-estimator-id-2\" class=\"sk-toggleable__label sk-toggleable__label-arrow\">RandomForestClassifier</label><div class=\"sk-toggleable__content\"><pre>RandomForestClassifier()</pre></div></div></div></div></div>"
      ],
      "text/plain": [
       "RandomForestClassifier()"
      ]
     },
     "execution_count": 34,
     "metadata": {},
     "output_type": "execute_result"
    }
   ],
   "source": [
    "rf.fit(X_train, y_train)"
   ]
  },
  {
   "cell_type": "code",
   "execution_count": 35,
   "id": "41155eb4",
   "metadata": {},
   "outputs": [
    {
     "name": "stdout",
     "output_type": "stream",
     "text": [
      "              precision    recall  f1-score   support\n",
      "\n",
      "           0       1.00      1.00      1.00         6\n",
      "           1       1.00      1.00      1.00        44\n",
      "\n",
      "    accuracy                           1.00        50\n",
      "   macro avg       1.00      1.00      1.00        50\n",
      "weighted avg       1.00      1.00      1.00        50\n",
      "\n",
      "[[ 6  0]\n",
      " [ 0 44]]\n",
      "              precision    recall  f1-score   support\n",
      "\n",
      "           0       0.00      0.00      0.00         1\n",
      "           1       0.92      1.00      0.96        12\n",
      "\n",
      "    accuracy                           0.92        13\n",
      "   macro avg       0.46      0.50      0.48        13\n",
      "weighted avg       0.85      0.92      0.89        13\n",
      "\n",
      "[[ 0  1]\n",
      " [ 0 12]]\n"
     ]
    },
    {
     "name": "stderr",
     "output_type": "stream",
     "text": [
      "C:\\Users\\zhuan\\anaconda3\\Lib\\site-packages\\sklearn\\metrics\\_classification.py:1469: UndefinedMetricWarning: Precision and F-score are ill-defined and being set to 0.0 in labels with no predicted samples. Use `zero_division` parameter to control this behavior.\n",
      "  _warn_prf(average, modifier, msg_start, len(result))\n",
      "C:\\Users\\zhuan\\anaconda3\\Lib\\site-packages\\sklearn\\metrics\\_classification.py:1469: UndefinedMetricWarning: Precision and F-score are ill-defined and being set to 0.0 in labels with no predicted samples. Use `zero_division` parameter to control this behavior.\n",
      "  _warn_prf(average, modifier, msg_start, len(result))\n",
      "C:\\Users\\zhuan\\anaconda3\\Lib\\site-packages\\sklearn\\metrics\\_classification.py:1469: UndefinedMetricWarning: Precision and F-score are ill-defined and being set to 0.0 in labels with no predicted samples. Use `zero_division` parameter to control this behavior.\n",
      "  _warn_prf(average, modifier, msg_start, len(result))\n"
     ]
    }
   ],
   "source": [
    "y_pred_rf_train = rf.predict(X_train)\n",
    "y_pred_rf = rf.predict(X_test)\n",
    "\n",
    "print(classification_report(y_train,y_pred_rf_train))\n",
    "print(confusion_matrix(y_train,y_pred_rf_train))\n",
    "print(classification_report(y_test, y_pred_rf))\n",
    "print(confusion_matrix(y_test, y_pred_rf))"
   ]
  },
  {
   "cell_type": "code",
   "execution_count": 37,
   "id": "47e5478f",
   "metadata": {},
   "outputs": [
    {
     "name": "stdout",
     "output_type": "stream",
     "text": [
      "cross_val_scores_accuracy [1.         1.         0.92307692 0.83333333 0.91666667]\n",
      "cross_val_scores_accuracy_mean 0.9346153846153846\n",
      "cross_val_scores_precision [1.         1.         0.91666667 1.         0.91666667]\n",
      "cross_val_scores_precision_mean 0.9666666666666666\n",
      "cross_val_scores_recall [1.         1.         1.         0.81818182 1.        ]\n",
      "cross_val_scores_recall_mean 0.9636363636363636\n",
      "cross_val_scores_f1 [1.         1.         0.95652174 0.84210526 0.95652174]\n",
      "cross_val_scores_recall_mean 0.9510297482837528\n"
     ]
    }
   ],
   "source": [
    "cross_val_scores_accuracy = cross_val_score(rf, X, y, cv=5, scoring='accuracy')\n",
    "cross_val_scores_precision = cross_val_score(rf, X, y, cv=5, scoring='precision')\n",
    "cross_val_scores_recall = cross_val_score(rf, X, y, cv=5, scoring='recall')\n",
    "cross_val_scores_f1 = cross_val_score(rf, X, y, cv=5, scoring='f1')\n",
    "print('cross_val_scores_accuracy', cross_val_scores_accuracy)\n",
    "print('cross_val_scores_accuracy_mean', cross_val_scores_accuracy.mean())\n",
    "print('cross_val_scores_precision', cross_val_scores_precision)\n",
    "print('cross_val_scores_precision_mean', cross_val_scores_precision.mean())\n",
    "print('cross_val_scores_recall', cross_val_scores_recall)\n",
    "print('cross_val_scores_recall_mean', cross_val_scores_recall.mean())\n",
    "print('cross_val_scores_f1', cross_val_scores_f1)\n",
    "print('cross_val_scores_recall_mean', cross_val_scores_f1.mean())"
   ]
  },
  {
   "cell_type": "code",
   "execution_count": null,
   "id": "85c92e4d",
   "metadata": {},
   "outputs": [],
   "source": []
  },
  {
   "cell_type": "code",
   "execution_count": 38,
   "id": "019620b6",
   "metadata": {},
   "outputs": [],
   "source": [
    "from sklearn.svm import SVC\n",
    "svm = SVC()"
   ]
  },
  {
   "cell_type": "code",
   "execution_count": 39,
   "id": "13cf30d5",
   "metadata": {},
   "outputs": [
    {
     "data": {
      "text/html": [
       "<style>#sk-container-id-3 {color: black;}#sk-container-id-3 pre{padding: 0;}#sk-container-id-3 div.sk-toggleable {background-color: white;}#sk-container-id-3 label.sk-toggleable__label {cursor: pointer;display: block;width: 100%;margin-bottom: 0;padding: 0.3em;box-sizing: border-box;text-align: center;}#sk-container-id-3 label.sk-toggleable__label-arrow:before {content: \"▸\";float: left;margin-right: 0.25em;color: #696969;}#sk-container-id-3 label.sk-toggleable__label-arrow:hover:before {color: black;}#sk-container-id-3 div.sk-estimator:hover label.sk-toggleable__label-arrow:before {color: black;}#sk-container-id-3 div.sk-toggleable__content {max-height: 0;max-width: 0;overflow: hidden;text-align: left;background-color: #f0f8ff;}#sk-container-id-3 div.sk-toggleable__content pre {margin: 0.2em;color: black;border-radius: 0.25em;background-color: #f0f8ff;}#sk-container-id-3 input.sk-toggleable__control:checked~div.sk-toggleable__content {max-height: 200px;max-width: 100%;overflow: auto;}#sk-container-id-3 input.sk-toggleable__control:checked~label.sk-toggleable__label-arrow:before {content: \"▾\";}#sk-container-id-3 div.sk-estimator input.sk-toggleable__control:checked~label.sk-toggleable__label {background-color: #d4ebff;}#sk-container-id-3 div.sk-label input.sk-toggleable__control:checked~label.sk-toggleable__label {background-color: #d4ebff;}#sk-container-id-3 input.sk-hidden--visually {border: 0;clip: rect(1px 1px 1px 1px);clip: rect(1px, 1px, 1px, 1px);height: 1px;margin: -1px;overflow: hidden;padding: 0;position: absolute;width: 1px;}#sk-container-id-3 div.sk-estimator {font-family: monospace;background-color: #f0f8ff;border: 1px dotted black;border-radius: 0.25em;box-sizing: border-box;margin-bottom: 0.5em;}#sk-container-id-3 div.sk-estimator:hover {background-color: #d4ebff;}#sk-container-id-3 div.sk-parallel-item::after {content: \"\";width: 100%;border-bottom: 1px solid gray;flex-grow: 1;}#sk-container-id-3 div.sk-label:hover label.sk-toggleable__label {background-color: #d4ebff;}#sk-container-id-3 div.sk-serial::before {content: \"\";position: absolute;border-left: 1px solid gray;box-sizing: border-box;top: 0;bottom: 0;left: 50%;z-index: 0;}#sk-container-id-3 div.sk-serial {display: flex;flex-direction: column;align-items: center;background-color: white;padding-right: 0.2em;padding-left: 0.2em;position: relative;}#sk-container-id-3 div.sk-item {position: relative;z-index: 1;}#sk-container-id-3 div.sk-parallel {display: flex;align-items: stretch;justify-content: center;background-color: white;position: relative;}#sk-container-id-3 div.sk-item::before, #sk-container-id-3 div.sk-parallel-item::before {content: \"\";position: absolute;border-left: 1px solid gray;box-sizing: border-box;top: 0;bottom: 0;left: 50%;z-index: -1;}#sk-container-id-3 div.sk-parallel-item {display: flex;flex-direction: column;z-index: 1;position: relative;background-color: white;}#sk-container-id-3 div.sk-parallel-item:first-child::after {align-self: flex-end;width: 50%;}#sk-container-id-3 div.sk-parallel-item:last-child::after {align-self: flex-start;width: 50%;}#sk-container-id-3 div.sk-parallel-item:only-child::after {width: 0;}#sk-container-id-3 div.sk-dashed-wrapped {border: 1px dashed gray;margin: 0 0.4em 0.5em 0.4em;box-sizing: border-box;padding-bottom: 0.4em;background-color: white;}#sk-container-id-3 div.sk-label label {font-family: monospace;font-weight: bold;display: inline-block;line-height: 1.2em;}#sk-container-id-3 div.sk-label-container {text-align: center;}#sk-container-id-3 div.sk-container {/* jupyter's `normalize.less` sets `[hidden] { display: none; }` but bootstrap.min.css set `[hidden] { display: none !important; }` so we also need the `!important` here to be able to override the default hidden behavior on the sphinx rendered scikit-learn.org. See: https://github.com/scikit-learn/scikit-learn/issues/21755 */display: inline-block !important;position: relative;}#sk-container-id-3 div.sk-text-repr-fallback {display: none;}</style><div id=\"sk-container-id-3\" class=\"sk-top-container\"><div class=\"sk-text-repr-fallback\"><pre>SVC()</pre><b>In a Jupyter environment, please rerun this cell to show the HTML representation or trust the notebook. <br />On GitHub, the HTML representation is unable to render, please try loading this page with nbviewer.org.</b></div><div class=\"sk-container\" hidden><div class=\"sk-item\"><div class=\"sk-estimator sk-toggleable\"><input class=\"sk-toggleable__control sk-hidden--visually\" id=\"sk-estimator-id-3\" type=\"checkbox\" checked><label for=\"sk-estimator-id-3\" class=\"sk-toggleable__label sk-toggleable__label-arrow\">SVC</label><div class=\"sk-toggleable__content\"><pre>SVC()</pre></div></div></div></div></div>"
      ],
      "text/plain": [
       "SVC()"
      ]
     },
     "execution_count": 39,
     "metadata": {},
     "output_type": "execute_result"
    }
   ],
   "source": [
    "svm.fit(X_train, y_train)"
   ]
  },
  {
   "cell_type": "code",
   "execution_count": 40,
   "id": "14faec80",
   "metadata": {},
   "outputs": [
    {
     "name": "stdout",
     "output_type": "stream",
     "text": [
      "              precision    recall  f1-score   support\n",
      "\n",
      "           0       1.00      0.33      0.50         6\n",
      "           1       0.92      1.00      0.96        44\n",
      "\n",
      "    accuracy                           0.92        50\n",
      "   macro avg       0.96      0.67      0.73        50\n",
      "weighted avg       0.93      0.92      0.90        50\n",
      "\n",
      "[[ 2  4]\n",
      " [ 0 44]]\n",
      "              precision    recall  f1-score   support\n",
      "\n",
      "           0       0.00      0.00      0.00         1\n",
      "           1       0.92      1.00      0.96        12\n",
      "\n",
      "    accuracy                           0.92        13\n",
      "   macro avg       0.46      0.50      0.48        13\n",
      "weighted avg       0.85      0.92      0.89        13\n",
      "\n",
      "[[ 0  1]\n",
      " [ 0 12]]\n"
     ]
    },
    {
     "name": "stderr",
     "output_type": "stream",
     "text": [
      "C:\\Users\\zhuan\\anaconda3\\Lib\\site-packages\\sklearn\\metrics\\_classification.py:1469: UndefinedMetricWarning: Precision and F-score are ill-defined and being set to 0.0 in labels with no predicted samples. Use `zero_division` parameter to control this behavior.\n",
      "  _warn_prf(average, modifier, msg_start, len(result))\n",
      "C:\\Users\\zhuan\\anaconda3\\Lib\\site-packages\\sklearn\\metrics\\_classification.py:1469: UndefinedMetricWarning: Precision and F-score are ill-defined and being set to 0.0 in labels with no predicted samples. Use `zero_division` parameter to control this behavior.\n",
      "  _warn_prf(average, modifier, msg_start, len(result))\n",
      "C:\\Users\\zhuan\\anaconda3\\Lib\\site-packages\\sklearn\\metrics\\_classification.py:1469: UndefinedMetricWarning: Precision and F-score are ill-defined and being set to 0.0 in labels with no predicted samples. Use `zero_division` parameter to control this behavior.\n",
      "  _warn_prf(average, modifier, msg_start, len(result))\n"
     ]
    }
   ],
   "source": [
    "y_pred_svm_train = svm.predict(X_train)\n",
    "y_pred_svm = svm.predict(X_test)\n",
    "print(classification_report(y_train,y_pred_svm_train))\n",
    "print(confusion_matrix(y_train,y_pred_svm_train))\n",
    "print(classification_report(y_test, y_pred_svm))\n",
    "print(confusion_matrix(y_test, y_pred_svm))"
   ]
  },
  {
   "cell_type": "code",
   "execution_count": 41,
   "id": "4cb8dedd",
   "metadata": {},
   "outputs": [
    {
     "name": "stdout",
     "output_type": "stream",
     "text": [
      "cross_val_scores_accuracy [0.92307692 0.84615385 0.84615385 0.91666667 1.        ]\n",
      "cross_val_scores_accuracy_mean 0.9064102564102564\n",
      "cross_val_scores_precision [0.92307692 0.84615385 0.84615385 0.91666667 1.        ]\n",
      "cross_val_scores_precision_mean 0.9064102564102564\n",
      "cross_val_scores_recall [1. 1. 1. 1. 1.]\n",
      "cross_val_scores_recall_mean 1.0\n",
      "cross_val_scores_f1 [0.96       0.91666667 0.91666667 0.95652174 1.        ]\n",
      "cross_val_scores_recall_mean 0.9499710144927537\n"
     ]
    }
   ],
   "source": [
    "cross_val_scores_accuracy = cross_val_score(svm, X, y, cv=5, scoring='accuracy')\n",
    "cross_val_scores_precision = cross_val_score(svm, X, y, cv=5, scoring='precision')\n",
    "cross_val_scores_recall = cross_val_score(svm, X, y, cv=5, scoring='recall')\n",
    "cross_val_scores_f1 = cross_val_score(svm, X, y, cv=5, scoring='f1')\n",
    "print('cross_val_scores_accuracy', cross_val_scores_accuracy)\n",
    "print('cross_val_scores_accuracy_mean', cross_val_scores_accuracy.mean())\n",
    "print('cross_val_scores_precision', cross_val_scores_precision)\n",
    "print('cross_val_scores_precision_mean', cross_val_scores_precision.mean())\n",
    "print('cross_val_scores_recall', cross_val_scores_recall)\n",
    "print('cross_val_scores_recall_mean', cross_val_scores_recall.mean())\n",
    "print('cross_val_scores_f1', cross_val_scores_f1)\n",
    "print('cross_val_scores_recall_mean', cross_val_scores_f1.mean())"
   ]
  },
  {
   "cell_type": "code",
   "execution_count": null,
   "id": "a665c1de",
   "metadata": {},
   "outputs": [],
   "source": []
  },
  {
   "cell_type": "code",
   "execution_count": null,
   "id": "35a02c64",
   "metadata": {},
   "outputs": [],
   "source": []
  }
 ],
 "metadata": {
  "kernelspec": {
   "display_name": "Python 3 (ipykernel)",
   "language": "python",
   "name": "python3"
  },
  "language_info": {
   "codemirror_mode": {
    "name": "ipython",
    "version": 3
   },
   "file_extension": ".py",
   "mimetype": "text/x-python",
   "name": "python",
   "nbconvert_exporter": "python",
   "pygments_lexer": "ipython3",
   "version": "3.11.4"
  }
 },
 "nbformat": 4,
 "nbformat_minor": 5
}
